{
 "cells": [
  {
   "cell_type": "code",
   "execution_count": 1,
   "id": "144aac77-f043-423e-822d-bdff57babf44",
   "metadata": {},
   "outputs": [
    {
     "name": "stderr",
     "output_type": "stream",
     "text": [
      "d:\\pulpite\\rware\\venv\\lib\\site-packages\\tqdm\\auto.py:21: TqdmWarning: IProgress not found. Please update jupyter and ipywidgets. See https://ipywidgets.readthedocs.io/en/stable/user_install.html\n",
      "  from .autonotebook import tqdm as notebook_tqdm\n"
     ]
    }
   ],
   "source": [
    "from marllib import marl\n",
    "# import pettingzoo.mpe\n",
    "# from pettingzoo.mpe import simple_adversary_v3\n",
    "from pettingzoo.mpe import simple_adversary_v2\n",
    "# from pettingzoo.mpe import simple_tag_v3"
   ]
  },
  {
   "cell_type": "code",
   "execution_count": 2,
   "id": "737b715d-62d3-42dc-83ca-81cfdfa1886c",
   "metadata": {},
   "outputs": [
    {
     "name": "stdout",
     "output_type": "stream",
     "text": [
      "+--------------------+----------------+---------------------------------------------------------------------------------------------------------------------+----------------------------------------------+-------------------------------------+\n",
      "| Env_Name           | Check_Status   | Error_Log                                                                                                           | Config_File_Location                         | Env_File_Location                   |\n",
      "+====================+================+=====================================================================================================================+==============================================+=====================================+\n",
      "| gymnasium_mamujoco | Error          | cannot import name 'NDArray' from 'numpy.typing' (d:\\pulpite\\rware\\venv\\lib\\site-packages\\numpy\\typing\\__init__.py) | envs/base_env/config/gymnasium_mamujoco.yaml | envs/base_env/gymnasium_mamujoco.py |\n",
      "+--------------------+----------------+---------------------------------------------------------------------------------------------------------------------+----------------------------------------------+-------------------------------------+\n",
      "| mpe                | Ready          | Null                                                                                                                | envs/base_env/config/mpe.yaml                | envs/base_env/mpe.py                |\n",
      "+--------------------+----------------+---------------------------------------------------------------------------------------------------------------------+----------------------------------------------+-------------------------------------+\n",
      "| gymnasium_mpe      | Error          | cannot import name 'simple_adversary_v3' from 'pettingzoo.mpe'                                                      | envs/base_env/config/gymnasium_mpe.yaml      | envs/base_env/gymnasium_mpe.py      |\n",
      "+--------------------+----------------+---------------------------------------------------------------------------------------------------------------------+----------------------------------------------+-------------------------------------+\n",
      "| mamujoco           | Error          | No module named 'multiagent_mujoco'                                                                                 | envs/base_env/config/mamujoco.yaml           | envs/base_env/mamujoco.py           |\n",
      "+--------------------+----------------+---------------------------------------------------------------------------------------------------------------------+----------------------------------------------+-------------------------------------+\n",
      "| smac               | Error          | No module named 'smac'                                                                                              | envs/base_env/config/smac.yaml               | envs/base_env/smac.py               |\n",
      "+--------------------+----------------+---------------------------------------------------------------------------------------------------------------------+----------------------------------------------+-------------------------------------+\n",
      "| football           | Error          | No module named 'gfootball'                                                                                         | envs/base_env/config/football.yaml           | envs/base_env/football.py           |\n",
      "+--------------------+----------------+---------------------------------------------------------------------------------------------------------------------+----------------------------------------------+-------------------------------------+\n",
      "| magent             | Error          | cannot import name 'adversarial_pursuit_v3' from 'pettingzoo.magent'                                                | envs/base_env/config/magent.yaml             | envs/base_env/magent.py             |\n",
      "+--------------------+----------------+---------------------------------------------------------------------------------------------------------------------+----------------------------------------------+-------------------------------------+\n",
      "| rware              | Ready          | Null                                                                                                                | envs/base_env/config/rware.yaml              | envs/base_env/rware.py              |\n",
      "+--------------------+----------------+---------------------------------------------------------------------------------------------------------------------+----------------------------------------------+-------------------------------------+\n",
      "| lbf                | Ready          | Null                                                                                                                | envs/base_env/config/lbf.yaml                | envs/base_env/lbf.py                |\n",
      "+--------------------+----------------+---------------------------------------------------------------------------------------------------------------------+----------------------------------------------+-------------------------------------+\n",
      "| pommerman          | Error          | No module named 'pommerman'                                                                                         | envs/base_env/config/pommerman.yaml          | envs/base_env/pommerman.py          |\n",
      "+--------------------+----------------+---------------------------------------------------------------------------------------------------------------------+----------------------------------------------+-------------------------------------+\n",
      "| hanabi             | Ready          | Null                                                                                                                | envs/base_env/config/hanabi.yaml             | envs/base_env/hanabi.py             |\n",
      "+--------------------+----------------+---------------------------------------------------------------------------------------------------------------------+----------------------------------------------+-------------------------------------+\n",
      "| metadrive          | Error          | No module named 'metadrive'                                                                                         | envs/base_env/config/metadrive.yaml          | envs/base_env/metadrive.py          |\n",
      "+--------------------+----------------+---------------------------------------------------------------------------------------------------------------------+----------------------------------------------+-------------------------------------+\n",
      "| mate               | Error          | No module named 'mate'                                                                                              | envs/base_env/config/mate.yaml               | envs/base_env/mate.py               |\n",
      "+--------------------+----------------+---------------------------------------------------------------------------------------------------------------------+----------------------------------------------+-------------------------------------+\n",
      "| gobigger           | Ready          | Null                                                                                                                | envs/base_env/config/gobigger.yaml           | envs/base_env/gobigger.py           |\n",
      "+--------------------+----------------+---------------------------------------------------------------------------------------------------------------------+----------------------------------------------+-------------------------------------+\n",
      "| overcooked         | Error          | No module named 'overcooked_ai_py'                                                                                  | envs/base_env/config/overcooked.yaml         | envs/base_env/overcooked.py         |\n",
      "+--------------------+----------------+---------------------------------------------------------------------------------------------------------------------+----------------------------------------------+-------------------------------------+\n",
      "| voltage            | Error          | No module named 'pandapower'                                                                                        | envs/base_env/config/voltage.yaml            | envs/base_env/voltage.py            |\n",
      "+--------------------+----------------+---------------------------------------------------------------------------------------------------------------------+----------------------------------------------+-------------------------------------+\n",
      "| aircombat          | Error          | No module named 'jsbsim'                                                                                            | envs/base_env/config/aircombat.yaml          | envs/base_env/aircombat.py          |\n",
      "+--------------------+----------------+---------------------------------------------------------------------------------------------------------------------+----------------------------------------------+-------------------------------------+\n",
      "| hns                | Error          | No module named 'mujoco_worldgen'                                                                                   | envs/base_env/config/hns.yaml                | envs/base_env/hns.py                |\n",
      "+--------------------+----------------+---------------------------------------------------------------------------------------------------------------------+----------------------------------------------+-------------------------------------+\n",
      "| sisl               | Ready          | Null                                                                                                                | envs/base_env/config/sisl.yaml               | envs/base_env/sisl.py               |\n",
      "+--------------------+----------------+---------------------------------------------------------------------------------------------------------------------+----------------------------------------------+-------------------------------------+\n"
     ]
    },
    {
     "name": "stderr",
     "output_type": "stream",
     "text": [
      "d:\\pulpite\\rware\\venv\\lib\\site-packages\\pettingzoo\\utils\\wrappers\\base.py:59: UserWarning: The `action_spaces` dictionary is deprecated. Use the `action_space` function instead.\n",
      "  warnings.warn(\"The `action_spaces` dictionary is deprecated. Use the `action_space` function instead.\")\n",
      "d:\\pulpite\\rware\\venv\\lib\\site-packages\\pettingzoo\\utils\\wrappers\\base.py:51: UserWarning: The `observation_spaces` dictionary is deprecated. Use the `observation_space` function instead.\n",
      "  warnings.warn(\"The `observation_spaces` dictionary is deprecated. Use the `observation_space` function instead.\")\n",
      "d:\\pulpite\\rware\\venv\\lib\\site-packages\\pettingzoo\\utils\\conversions.py:61: UserWarning: The `observation_spaces` dictionary is deprecated. Use the `observation_space` function instead.\n",
      "  warnings.warn(\"The `observation_spaces` dictionary is deprecated. Use the `observation_space` function instead.\")\n",
      "d:\\pulpite\\rware\\venv\\lib\\site-packages\\pettingzoo\\utils\\conversions.py:69: UserWarning: The `action_spaces` dictionary is deprecated. Use the `action_space` function instead.\n",
      "  warnings.warn(\"The `action_spaces` dictionary is deprecated. Use the `action_space` function instead.\")\n"
     ]
    }
   ],
   "source": [
    "# prepare the environment\n",
    "env = marl.make_env(environment_name=\"mpe\", map_name=\"simple_adversary\")\n",
    "\n",
    "# env = simple_adversary_v2.parallel_env(render_mode=\"human\")"
   ]
  },
  {
   "cell_type": "code",
   "execution_count": 3,
   "id": "b6bac9a9-b769-4cd4-bd74-e457b41fa771",
   "metadata": {},
   "outputs": [],
   "source": [
    "# initialize algorithm and load hyperparameters\n",
    "mappo = marl.algos.ippo(hyperparam_source=\"mpe\")"
   ]
  },
  {
   "cell_type": "code",
   "execution_count": 4,
   "id": "2a5b30c9-60db-4363-beff-dc5df53b44e0",
   "metadata": {},
   "outputs": [],
   "source": [
    "# build agent model based on env + algorithms + user preference if checked available\n",
    "model = marl.build_model(env, mappo, {\"core_arch\": \"mlp\", \"encode_layer\": \"128-256\"})"
   ]
  },
  {
   "cell_type": "code",
   "execution_count": 5,
   "id": "18b66c50-eb95-4bcd-803d-5598ab3f6a3a",
   "metadata": {},
   "outputs": [],
   "source": [
    "# %%time\n",
    "# mappo.fit(env, model, stop={\"timesteps_total\": 100000}, checkpoint_freq=20, checkpoint_end=True, share_policy=\"group\", local_mode=True, num_workers=9)"
   ]
  },
  {
   "cell_type": "code",
   "execution_count": 6,
   "id": "912d55c8-d1b3-49d1-9d88-315af4cf571b",
   "metadata": {},
   "outputs": [
    {
     "name": "stderr",
     "output_type": "stream",
     "text": [
      "2024-01-24 23:16:47,260\tWARNING sample.py:401 -- DeprecationWarning: wrapping <function run_il.<locals>.<lambda> at 0x0000023312E00790> with tune.function() is no longer needed\n",
      "2024-01-24 23:16:47,507\tWARNING worker.py:496 -- `ray.get_gpu_ids()` will always return the empty list when called from the driver. This is because Ray does not manage GPU allocations to the driver process.\n",
      "2024-01-24 23:16:47,606\tWARNING deprecation.py:38 -- DeprecationWarning: `simple_optimizer` has been deprecated. This will raise an error in the future!\n",
      "2024-01-24 23:16:47,607\tINFO ppo.py:166 -- In multi-agent mode, policies will be optimized sequentially by the multi-GPU optimizer. Consider setting simple_optimizer=True if this doesn't work for you.\n",
      "2024-01-24 23:16:47,608\tINFO trainer.py:770 -- Current log_level is WARN. For more information, set 'log_level': 'INFO' / 'DEBUG' or use the -v and -vv flags.\n",
      "2024-01-24 23:16:47,701\tWARNING deprecation.py:38 -- DeprecationWarning: `SampleBatch['is_training']` has been deprecated. Use `SampleBatch.is_training` instead. This will raise an error in the future!\n"
     ]
    },
    {
     "name": "stdout",
     "output_type": "stream",
     "text": [
      ":task_name:bundle_reservation_check_func\n",
      ":actor_name:IPPOTrainer\n",
      ":actor_name:RolloutWorker\n"
     ]
    },
    {
     "name": "stderr",
     "output_type": "stream",
     "text": [
      "2024-01-24 23:16:47,723\tWARNING rollout_worker.py:578 -- You are running ray with `local_mode=True`, but have configured 1 GPUs to be used! In local mode, Policies are placed on the CPU and the `num_gpus` setting is ignored.\n",
      "2024-01-24 23:16:47,747\tWARNING trainer_template.py:185 -- `execution_plan` functions should accept `trainer`, `workers`, and `config` as args!\n",
      "2024-01-24 23:16:47,748\tWARNING deprecation.py:38 -- DeprecationWarning: `simple_optimizer` has been deprecated. This will raise an error in the future!\n",
      "d:\\pulpite\\rware\\venv\\lib\\site-packages\\pettingzoo\\utils\\wrappers\\base.py:59: UserWarning: The `action_spaces` dictionary is deprecated. Use the `action_space` function instead.\n",
      "  warnings.warn(\"The `action_spaces` dictionary is deprecated. Use the `action_space` function instead.\")\n",
      "d:\\pulpite\\rware\\venv\\lib\\site-packages\\pettingzoo\\utils\\wrappers\\base.py:51: UserWarning: The `observation_spaces` dictionary is deprecated. Use the `observation_space` function instead.\n",
      "  warnings.warn(\"The `observation_spaces` dictionary is deprecated. Use the `observation_space` function instead.\")\n",
      "d:\\pulpite\\rware\\venv\\lib\\site-packages\\pettingzoo\\utils\\conversions.py:61: UserWarning: The `observation_spaces` dictionary is deprecated. Use the `observation_space` function instead.\n",
      "  warnings.warn(\"The `observation_spaces` dictionary is deprecated. Use the `observation_space` function instead.\")\n",
      "d:\\pulpite\\rware\\venv\\lib\\site-packages\\pettingzoo\\utils\\conversions.py:69: UserWarning: The `action_spaces` dictionary is deprecated. Use the `action_space` function instead.\n",
      "  warnings.warn(\"The `action_spaces` dictionary is deprecated. Use the `action_space` function instead.\")\n",
      "2024-01-24 23:16:47,852\tWARNING rollout_worker.py:578 -- You are running ray with `local_mode=True`, but have configured 1 GPUs to be used! In local mode, Policies are placed on the CPU and the `num_gpus` setting is ignored.\n",
      "2024-01-24 23:16:47,926\tINFO trainable.py:416 -- Restored on 127.0.0.1 from checkpoint: D:\\PulpitE\\RWARE\\MARLlib\\exp_results\\ippo_mlp_simple_adversary\\IPPOTrainer_mpe_simple_adversary_438f1_00000_0_2024-01-24_23-16-47\\tmpoqom6l2wrestore_from_object\\checkpoint-89\n",
      "2024-01-24 23:16:47,926\tINFO trainable.py:424 -- Current state after restoring: {'_iteration': 89, '_timesteps_total': 0, '_time_total': 1096.2165899276733, '_episodes_total': 12015}\n",
      "2024-01-24 23:16:47,951\tERROR syncer.py:75 -- Log sync requires rsync to be installed.\n",
      "2024-01-24 23:16:47,970\tWARNING deprecation.py:38 -- DeprecationWarning: `policy_mapping_fn(agent_id)` has been deprecated. Use `policy_mapping_fn(agent_id, episode, worker, **kwargs)` instead. This will raise an error in the future!\n"
     ]
    },
    {
     "name": "stdout",
     "output_type": "stream",
     "text": [
      ":actor_name:RolloutWorker\n",
      ":actor_name:IPPOTrainer\n",
      "== Status ==\n",
      "Current time: 2024-01-24 23:16:47 (running for 00:00:00.65)\n",
      "Memory usage on this node: 10.9/15.9 GiB\n",
      "Using FIFO scheduling algorithm.\n",
      "Resources requested: 3.0/8 CPUs, 1.0/1 GPUs, 0.0/3.4 GiB heap, 0.0/1.7 GiB objects\n",
      "Result logdir: D:\\PulpitE\\RWARE\\MARLlib\\exp_results\\ippo_mlp_simple_adversary\n",
      "Number of trials: 1/1 (1 RUNNING)\n",
      "+----------------------------------------------+----------+----------------+\n",
      "| Trial name                                   | status   | loc            |\n",
      "|----------------------------------------------+----------+----------------|\n",
      "| IPPOTrainer_mpe_simple_adversary_438f1_00000 | RUNNING  | 127.0.0.1:9144 |\n",
      "+----------------------------------------------+----------+----------------+\n",
      "\n",
      "\n"
     ]
    },
    {
     "name": "stderr",
     "output_type": "stream",
     "text": [
      "2024-01-24 23:17:35,718\tWARNING util.py:165 -- The `process_trial_restore` operation took 47.750 s, which may be a performance bottleneck.\n",
      "2024-01-24 23:17:35,763\tERROR trial_runner.py:924 -- Trial IPPOTrainer_mpe_simple_adversary_438f1_00000: Error processing event.\n",
      "Traceback (most recent call last):\n",
      "  File \"d:\\pulpite\\rware\\venv\\lib\\site-packages\\ray\\tune\\trial_runner.py\", line 890, in _process_trial\n",
      "    results = self.trial_executor.fetch_result(trial)\n",
      "  File \"d:\\pulpite\\rware\\venv\\lib\\site-packages\\ray\\tune\\ray_trial_executor.py\", line 788, in fetch_result\n",
      "    result = ray.get(trial_future[0], timeout=DEFAULT_GET_TIMEOUT)\n",
      "  File \"d:\\pulpite\\rware\\venv\\lib\\site-packages\\ray\\_private\\client_mode_hook.py\", line 105, in wrapper\n",
      "    return func(*args, **kwargs)\n",
      "  File \"d:\\pulpite\\rware\\venv\\lib\\site-packages\\ray\\worker.py\", line 1625, in get\n",
      "    raise value.as_instanceof_cause()\n",
      "ray.exceptions.RayTaskError(AttributeError): \u001b[36mray::IPPOTrainer.train_buffered()\u001b[39m (pid=9144, ip=127.0.0.1, repr=IPPOTrainer)\n",
      "  File \"python\\ray\\_raylet.pyx\", line 565, in ray._raylet.execute_task\n",
      "  File \"python\\ray\\_raylet.pyx\", line 569, in ray._raylet.execute_task\n",
      "  File \"python\\ray\\_raylet.pyx\", line 519, in ray._raylet.execute_task.function_executor\n",
      "  File \"d:\\pulpite\\rware\\venv\\lib\\site-packages\\ray\\_private\\function_manager.py\", line 576, in actor_method_executor\n",
      "    return method(__ray_actor, *args, **kwargs)\n",
      "  File \"d:\\pulpite\\rware\\venv\\lib\\site-packages\\ray\\util\\tracing\\tracing_helper.py\", line 451, in _resume_span\n",
      "    return method(self, *_args, **_kwargs)\n",
      "  File \"d:\\pulpite\\rware\\venv\\lib\\site-packages\\ray\\tune\\trainable.py\", line 224, in train_buffered\n",
      "    result = self.train()\n",
      "  File \"d:\\pulpite\\rware\\venv\\lib\\site-packages\\ray\\util\\tracing\\tracing_helper.py\", line 451, in _resume_span\n",
      "    return method(self, *_args, **_kwargs)\n",
      "  File \"d:\\pulpite\\rware\\venv\\lib\\site-packages\\ray\\rllib\\agents\\trainer.py\", line 679, in train\n",
      "    raise e\n",
      "  File \"d:\\pulpite\\rware\\venv\\lib\\site-packages\\ray\\rllib\\agents\\trainer.py\", line 668, in train\n",
      "    result = Trainable.train(self)\n",
      "  File \"d:\\pulpite\\rware\\venv\\lib\\site-packages\\ray\\tune\\trainable.py\", line 283, in train\n",
      "    result = self.step()\n",
      "  File \"d:\\pulpite\\rware\\venv\\lib\\site-packages\\ray\\util\\tracing\\tracing_helper.py\", line 451, in _resume_span\n",
      "    return method(self, *_args, **_kwargs)\n",
      "  File \"d:\\pulpite\\rware\\venv\\lib\\site-packages\\ray\\rllib\\agents\\trainer_template.py\", line 240, in step\n",
      "    evaluation_metrics = self.evaluate()\n",
      "  File \"d:\\pulpite\\rware\\venv\\lib\\site-packages\\ray\\util\\tracing\\tracing_helper.py\", line 451, in _resume_span\n",
      "    return method(self, *_args, **_kwargs)\n",
      "  File \"d:\\pulpite\\rware\\venv\\lib\\site-packages\\ray\\rllib\\agents\\trainer.py\", line 971, in evaluate\n",
      "    batches = ray.get([\n",
      "  File \"d:\\pulpite\\rware\\venv\\lib\\site-packages\\ray\\_private\\client_mode_hook.py\", line 105, in wrapper\n",
      "    return func(*args, **kwargs)\n",
      "  File \"d:\\pulpite\\rware\\venv\\lib\\site-packages\\ray\\worker.py\", line 1625, in get\n",
      "    raise value.as_instanceof_cause()\n",
      "ray.exceptions.RayTaskError(AttributeError): \u001b[36mray::RolloutWorker.sample()\u001b[39m (pid=9144, ip=127.0.0.1, repr=<ray.rllib.evaluation.rollout_worker.modify_class.<locals>.Class object at 0x000002331363F9D0>)\n",
      "  File \"python\\ray\\_raylet.pyx\", line 565, in ray._raylet.execute_task\n",
      "  File \"python\\ray\\_raylet.pyx\", line 569, in ray._raylet.execute_task\n",
      "  File \"python\\ray\\_raylet.pyx\", line 519, in ray._raylet.execute_task.function_executor\n",
      "  File \"d:\\pulpite\\rware\\venv\\lib\\site-packages\\ray\\_private\\function_manager.py\", line 576, in actor_method_executor\n",
      "    return method(__ray_actor, *args, **kwargs)\n",
      "  File \"d:\\pulpite\\rware\\venv\\lib\\site-packages\\ray\\util\\tracing\\tracing_helper.py\", line 451, in _resume_span\n",
      "    return method(self, *_args, **_kwargs)\n",
      "  File \"d:\\pulpite\\rware\\venv\\lib\\site-packages\\ray\\rllib\\evaluation\\rollout_worker.py\", line 753, in sample\n",
      "    batches = [self.input_reader.next()]\n",
      "  File \"d:\\pulpite\\rware\\venv\\lib\\site-packages\\ray\\rllib\\evaluation\\sampler.py\", line 103, in next\n",
      "    batches = [self.get_data()]\n",
      "  File \"d:\\pulpite\\rware\\venv\\lib\\site-packages\\ray\\rllib\\evaluation\\sampler.py\", line 233, in get_data\n",
      "    item = next(self._env_runner)\n",
      "  File \"d:\\pulpite\\rware\\venv\\lib\\site-packages\\ray\\rllib\\evaluation\\sampler.py\", line 656, in _env_runner\n",
      "    rendered = base_env.try_render()\n",
      "  File \"d:\\pulpite\\rware\\venv\\lib\\site-packages\\ray\\rllib\\env\\base_env.py\", line 465, in try_render\n",
      "    return self.envs[env_id].render()\n",
      "  File \"D:\\PulpitE\\RWARE\\MARLlib\\marllib\\envs\\base_env\\mpe.py\", line 141, in render\n",
      "    self.env.render()\n",
      "  File \"d:\\pulpite\\rware\\venv\\lib\\site-packages\\ray\\rllib\\env\\wrappers\\pettingzoo_env.py\", line 185, in render\n",
      "    return self.par_env.render(mode)\n",
      "  File \"d:\\pulpite\\rware\\venv\\lib\\site-packages\\pettingzoo\\utils\\conversions.py\", line 120, in render\n",
      "    return self.aec_env.render(mode)\n",
      "  File \"d:\\pulpite\\rware\\venv\\lib\\site-packages\\pettingzoo\\utils\\wrappers\\order_enforcing.py\", line 51, in render\n",
      "    return super().render(mode)\n",
      "  File \"d:\\pulpite\\rware\\venv\\lib\\site-packages\\pettingzoo\\utils\\wrappers\\base.py\", line 82, in render\n",
      "    return self.env.render(mode)\n",
      "  File \"d:\\pulpite\\rware\\venv\\lib\\site-packages\\pettingzoo\\utils\\wrappers\\order_enforcing.py\", line 51, in render\n",
      "    return super().render(mode)\n",
      "  File \"d:\\pulpite\\rware\\venv\\lib\\site-packages\\pettingzoo\\utils\\wrappers\\base.py\", line 82, in render\n",
      "    return self.env.render(mode)\n",
      "  File \"d:\\pulpite\\rware\\venv\\lib\\site-packages\\pettingzoo\\utils\\wrappers\\order_enforcing.py\", line 51, in render\n",
      "    return super().render(mode)\n",
      "  File \"d:\\pulpite\\rware\\venv\\lib\\site-packages\\pettingzoo\\utils\\wrappers\\base.py\", line 82, in render\n",
      "    return self.env.render(mode)\n",
      "  File \"d:\\pulpite\\rware\\venv\\lib\\site-packages\\pettingzoo\\utils\\wrappers\\base.py\", line 82, in render\n",
      "    return self.env.render(mode)\n",
      "  File \"d:\\pulpite\\rware\\venv\\lib\\site-packages\\pettingzoo\\mpe\\_mpe_utils\\simple_env.py\", line 261, in render\n",
      "    return self.viewer.render(return_rgb_array=mode == 'rgb_array')\n",
      "  File \"d:\\pulpite\\rware\\venv\\lib\\site-packages\\pettingzoo\\mpe\\_mpe_utils\\rendering.py\", line 129, in render\n",
      "    self.window.flip()\n",
      "  File \"d:\\pulpite\\rware\\venv\\lib\\site-packages\\pyglet\\window\\win32\\__init__.py\", line 352, in flip\n",
      "    self.context.flip()\n",
      "AttributeError: 'NoneType' object has no attribute 'flip'\n"
     ]
    },
    {
     "name": "stdout",
     "output_type": "stream",
     "text": [
      "== Status ==\n",
      "Current time: 2024-01-24 23:17:35 (running for 00:00:48.44)\n",
      "Memory usage on this node: 11.2/15.9 GiB\n",
      "Using FIFO scheduling algorithm.\n",
      "Resources requested: 3.0/8 CPUs, 1.0/1 GPUs, 0.0/3.4 GiB heap, 0.0/1.7 GiB objects\n",
      "Result logdir: D:\\PulpitE\\RWARE\\MARLlib\\exp_results\\ippo_mlp_simple_adversary\n",
      "Number of trials: 1/1 (1 RUNNING)\n",
      "+----------------------------------------------+----------+----------------+\n",
      "| Trial name                                   | status   | loc            |\n",
      "|----------------------------------------------+----------+----------------|\n",
      "| IPPOTrainer_mpe_simple_adversary_438f1_00000 | RUNNING  | 127.0.0.1:9144 |\n",
      "+----------------------------------------------+----------+----------------+\n",
      "\n",
      "\n"
     ]
    },
    {
     "name": "stderr",
     "output_type": "stream",
     "text": [
      "2024-01-24 23:17:36,412\tWARNING util.py:165 -- The `process_trial` operation took 0.648 s, which may be a performance bottleneck.\n"
     ]
    },
    {
     "name": "stdout",
     "output_type": "stream",
     "text": [
      "== Status ==\n",
      "Current time: 2024-01-24 23:17:36 (running for 00:00:49.11)\n",
      "Memory usage on this node: 11.2/15.9 GiB\n",
      "Using FIFO scheduling algorithm.\n",
      "Resources requested: 0/8 CPUs, 0/1 GPUs, 0.0/3.4 GiB heap, 0.0/1.7 GiB objects\n",
      "Result logdir: D:\\PulpitE\\RWARE\\MARLlib\\exp_results\\ippo_mlp_simple_adversary\n",
      "Number of trials: 1/1 (1 ERROR)\n",
      "+----------------------------------------------+----------+----------------+\n",
      "| Trial name                                   | status   | loc            |\n",
      "|----------------------------------------------+----------+----------------|\n",
      "| IPPOTrainer_mpe_simple_adversary_438f1_00000 | ERROR    | 127.0.0.1:9144 |\n",
      "+----------------------------------------------+----------+----------------+\n",
      "Number of errored trials: 1\n",
      "+----------------------------------------------+--------------+---------------------------------------------------------------------------------------------------------------------------------------------+\n",
      "| Trial name                                   |   # failures | error file                                                                                                                                  |\n",
      "|----------------------------------------------+--------------+---------------------------------------------------------------------------------------------------------------------------------------------|\n",
      "| IPPOTrainer_mpe_simple_adversary_438f1_00000 |            1 | D:\\PulpitE\\RWARE\\MARLlib\\exp_results\\ippo_mlp_simple_adversary\\IPPOTrainer_mpe_simple_adversary_438f1_00000_0_2024-01-24_23-16-47\\error.txt |\n",
      "+----------------------------------------------+--------------+---------------------------------------------------------------------------------------------------------------------------------------------+\n",
      "\n"
     ]
    },
    {
     "ename": "TuneError",
     "evalue": "('Trials did not complete', [IPPOTrainer_mpe_simple_adversary_438f1_00000])",
     "output_type": "error",
     "traceback": [
      "\u001b[1;31m---------------------------------------------------------------------------\u001b[0m",
      "\u001b[1;31mTuneError\u001b[0m                                 Traceback (most recent call last)",
      "File \u001b[1;32m~\\AppData\\Local\\Temp\\ipykernel_9144\\2053018194.py:1\u001b[0m\n\u001b[1;32m----> 1\u001b[0m \u001b[43mmappo\u001b[49m\u001b[38;5;241;43m.\u001b[39;49m\u001b[43mrender\u001b[49m\u001b[43m(\u001b[49m\u001b[43menv\u001b[49m\u001b[43m,\u001b[49m\u001b[43m \u001b[49m\u001b[43mmodel\u001b[49m\u001b[43m,\u001b[49m\n\u001b[0;32m      2\u001b[0m \u001b[43m             \u001b[49m\u001b[43mrestore_path\u001b[49m\u001b[38;5;241;43m=\u001b[39;49m\u001b[43m{\u001b[49m\u001b[38;5;124;43m'\u001b[39;49m\u001b[38;5;124;43mparams_path\u001b[39;49m\u001b[38;5;124;43m'\u001b[39;49m\u001b[43m:\u001b[49m\u001b[43m \u001b[49m\u001b[38;5;124;43m\"\u001b[39;49m\u001b[38;5;124;43mcompleted_trainings/IPPOTrainer_mpe_simple_adversary_3458f_00000_0_2024-01-24_15-09-36/params.json\u001b[39;49m\u001b[38;5;124;43m\"\u001b[39;49m\u001b[43m,\u001b[49m\n\u001b[0;32m      3\u001b[0m \u001b[43m                           \u001b[49m\u001b[38;5;124;43m'\u001b[39;49m\u001b[38;5;124;43mmodel_path\u001b[39;49m\u001b[38;5;124;43m'\u001b[39;49m\u001b[43m:\u001b[49m\u001b[43m \u001b[49m\u001b[38;5;124;43m\"\u001b[39;49m\u001b[38;5;124;43mcompleted_trainings/IPPOTrainer_mpe_simple_adversary_3458f_00000_0_2024-01-24_15-09-36/checkpoint_000089/checkpoint-89\u001b[39;49m\u001b[38;5;124;43m\"\u001b[39;49m\u001b[43m,\u001b[49m\u001b[43m \u001b[49m\u001b[38;5;66;43;03m# checkpoint path\u001b[39;49;00m\n\u001b[0;32m      4\u001b[0m \u001b[43m                           \u001b[49m\u001b[38;5;124;43m'\u001b[39;49m\u001b[38;5;124;43mrender\u001b[39;49m\u001b[38;5;124;43m'\u001b[39;49m\u001b[43m:\u001b[49m\u001b[43m \u001b[49m\u001b[38;5;28;43;01mTrue\u001b[39;49;00m\u001b[43m}\u001b[49m\u001b[43m,\u001b[49m\u001b[43m  \u001b[49m\u001b[38;5;66;43;03m# render\u001b[39;49;00m\n\u001b[0;32m      5\u001b[0m \u001b[43m             \u001b[49m\u001b[43mlocal_mode\u001b[49m\u001b[38;5;241;43m=\u001b[39;49m\u001b[38;5;28;43;01mTrue\u001b[39;49;00m\u001b[43m,\u001b[49m\n\u001b[0;32m      6\u001b[0m \u001b[43m             \u001b[49m\u001b[43mcheckpoint_end\u001b[49m\u001b[38;5;241;43m=\u001b[39;49m\u001b[38;5;28;43;01mFalse\u001b[39;49;00m\u001b[43m)\u001b[49m\n",
      "File \u001b[1;32mD:\\PulpitE\\RWARE\\MARLlib\\marllib\\marl\\__init__.py:333\u001b[0m, in \u001b[0;36m_Algo.render\u001b[1;34m(self, env, model, stop, **running_params)\u001b[0m\n\u001b[0;32m    320\u001b[0m \u001b[38;5;28;01mdef\u001b[39;00m \u001b[38;5;21mrender\u001b[39m(\u001b[38;5;28mself\u001b[39m, env: Tuple[MultiAgentEnv, Dict], model: Tuple[Any, Dict], stop: Dict \u001b[38;5;241m=\u001b[39m \u001b[38;5;28;01mNone\u001b[39;00m,\n\u001b[0;32m    321\u001b[0m            \u001b[38;5;241m*\u001b[39m\u001b[38;5;241m*\u001b[39mrunning_params) \u001b[38;5;241m-\u001b[39m\u001b[38;5;241m>\u001b[39m \u001b[38;5;28;01mNone\u001b[39;00m:\n\u001b[0;32m    322\u001b[0m \u001b[38;5;250m    \u001b[39m\u001b[38;5;124;03m\"\"\"\u001b[39;00m\n\u001b[0;32m    323\u001b[0m \u001b[38;5;124;03m    Entering point of the rendering, running a one iteration fit instead\u001b[39;00m\n\u001b[0;32m    324\u001b[0m \u001b[38;5;124;03m    Args:\u001b[39;00m\n\u001b[1;32m   (...)\u001b[0m\n\u001b[0;32m    330\u001b[0m \u001b[38;5;124;03m        None\u001b[39;00m\n\u001b[0;32m    331\u001b[0m \u001b[38;5;124;03m    \"\"\"\u001b[39;00m\n\u001b[1;32m--> 333\u001b[0m     \u001b[38;5;28;43mself\u001b[39;49m\u001b[38;5;241;43m.\u001b[39;49m\u001b[43mfit\u001b[49m\u001b[43m(\u001b[49m\u001b[43menv\u001b[49m\u001b[43m,\u001b[49m\u001b[43m \u001b[49m\u001b[43mmodel\u001b[49m\u001b[43m,\u001b[49m\u001b[43m \u001b[49m\u001b[43mstop\u001b[49m\u001b[43m,\u001b[49m\u001b[43m \u001b[49m\u001b[38;5;241;43m*\u001b[39;49m\u001b[38;5;241;43m*\u001b[39;49m\u001b[43mrunning_params\u001b[49m\u001b[43m)\u001b[49m\n",
      "File \u001b[1;32mD:\\PulpitE\\RWARE\\MARLlib\\marllib\\marl\\__init__.py:312\u001b[0m, in \u001b[0;36m_Algo.fit\u001b[1;34m(self, env, model, stop, **running_params)\u001b[0m\n\u001b[0;32m    309\u001b[0m \u001b[38;5;28mself\u001b[39m\u001b[38;5;241m.\u001b[39mconfig_dict[\u001b[38;5;124m'\u001b[39m\u001b[38;5;124malgorithm\u001b[39m\u001b[38;5;124m'\u001b[39m] \u001b[38;5;241m=\u001b[39m \u001b[38;5;28mself\u001b[39m\u001b[38;5;241m.\u001b[39mname\n\u001b[0;32m    311\u001b[0m \u001b[38;5;28;01mif\u001b[39;00m \u001b[38;5;28mself\u001b[39m\u001b[38;5;241m.\u001b[39malgo_type \u001b[38;5;241m==\u001b[39m \u001b[38;5;124m\"\u001b[39m\u001b[38;5;124mIL\u001b[39m\u001b[38;5;124m\"\u001b[39m:\n\u001b[1;32m--> 312\u001b[0m     \u001b[38;5;28;01mreturn\u001b[39;00m \u001b[43mrun_il\u001b[49m\u001b[43m(\u001b[49m\u001b[38;5;28;43mself\u001b[39;49m\u001b[38;5;241;43m.\u001b[39;49m\u001b[43mconfig_dict\u001b[49m\u001b[43m,\u001b[49m\u001b[43m \u001b[49m\u001b[43menv_instance\u001b[49m\u001b[43m,\u001b[49m\u001b[43m \u001b[49m\u001b[43mmodel_class\u001b[49m\u001b[43m,\u001b[49m\u001b[43m \u001b[49m\u001b[43mstop\u001b[49m\u001b[38;5;241;43m=\u001b[39;49m\u001b[43mstop\u001b[49m\u001b[43m)\u001b[49m\n\u001b[0;32m    313\u001b[0m \u001b[38;5;28;01melif\u001b[39;00m \u001b[38;5;28mself\u001b[39m\u001b[38;5;241m.\u001b[39malgo_type \u001b[38;5;241m==\u001b[39m \u001b[38;5;124m\"\u001b[39m\u001b[38;5;124mVD\u001b[39m\u001b[38;5;124m\"\u001b[39m:\n\u001b[0;32m    314\u001b[0m     \u001b[38;5;28;01mreturn\u001b[39;00m run_vd(\u001b[38;5;28mself\u001b[39m\u001b[38;5;241m.\u001b[39mconfig_dict, env_instance, model_class, stop\u001b[38;5;241m=\u001b[39mstop)\n",
      "File \u001b[1;32mD:\\PulpitE\\RWARE\\MARLlib\\marllib\\marl\\algos\\run_il.py:153\u001b[0m, in \u001b[0;36mrun_il\u001b[1;34m(exp_info, env, model, stop)\u001b[0m\n\u001b[0;32m    147\u001b[0m exp_info, run_config, stop_config, restore_config \u001b[38;5;241m=\u001b[39m restore_config_update(exp_info, run_config, stop_config)\n\u001b[0;32m    149\u001b[0m \u001b[38;5;66;03m##################\u001b[39;00m\n\u001b[0;32m    150\u001b[0m \u001b[38;5;66;03m### run script ###\u001b[39;00m\n\u001b[0;32m    151\u001b[0m \u001b[38;5;66;03m##################\u001b[39;00m\n\u001b[1;32m--> 153\u001b[0m results \u001b[38;5;241m=\u001b[39m \u001b[43mPOlICY_REGISTRY\u001b[49m\u001b[43m[\u001b[49m\u001b[43mexp_info\u001b[49m\u001b[43m[\u001b[49m\u001b[38;5;124;43m\"\u001b[39;49m\u001b[38;5;124;43malgorithm\u001b[39;49m\u001b[38;5;124;43m\"\u001b[39;49m\u001b[43m]\u001b[49m\u001b[43m]\u001b[49m\u001b[43m(\u001b[49m\u001b[43mmodel\u001b[49m\u001b[43m,\u001b[49m\u001b[43m \u001b[49m\u001b[43mexp_info\u001b[49m\u001b[43m,\u001b[49m\u001b[43m \u001b[49m\u001b[43mrun_config\u001b[49m\u001b[43m,\u001b[49m\u001b[43m \u001b[49m\u001b[43menv_info\u001b[49m\u001b[43m,\u001b[49m\u001b[43m \u001b[49m\u001b[43mstop_config\u001b[49m\u001b[43m,\u001b[49m\n\u001b[0;32m    154\u001b[0m \u001b[43m                                                 \u001b[49m\u001b[43mrestore_config\u001b[49m\u001b[43m)\u001b[49m\n\u001b[0;32m    155\u001b[0m ray\u001b[38;5;241m.\u001b[39mshutdown()\n\u001b[0;32m    157\u001b[0m \u001b[38;5;28;01mreturn\u001b[39;00m results\n",
      "File \u001b[1;32mD:\\PulpitE\\RWARE\\MARLlib\\marllib\\marl\\algos\\scripts\\ippo.py:110\u001b[0m, in \u001b[0;36mrun_ippo\u001b[1;34m(model, exp, run, env, stop, restore)\u001b[0m\n\u001b[0;32m    107\u001b[0m RUNNING_NAME \u001b[38;5;241m=\u001b[39m \u001b[38;5;124m'\u001b[39m\u001b[38;5;124m_\u001b[39m\u001b[38;5;124m'\u001b[39m\u001b[38;5;241m.\u001b[39mjoin([algorithm, arch, map_name])\n\u001b[0;32m    108\u001b[0m model_path \u001b[38;5;241m=\u001b[39m restore_model(restore, exp)\n\u001b[1;32m--> 110\u001b[0m results \u001b[38;5;241m=\u001b[39m \u001b[43mtune\u001b[49m\u001b[38;5;241;43m.\u001b[39;49m\u001b[43mrun\u001b[49m\u001b[43m(\u001b[49m\u001b[43mIPPOTrainer\u001b[49m\u001b[43m,\u001b[49m\n\u001b[0;32m    111\u001b[0m \u001b[43m                   \u001b[49m\u001b[43mname\u001b[49m\u001b[38;5;241;43m=\u001b[39;49m\u001b[43mRUNNING_NAME\u001b[49m\u001b[43m,\u001b[49m\n\u001b[0;32m    112\u001b[0m \u001b[43m                   \u001b[49m\u001b[43mcheckpoint_at_end\u001b[49m\u001b[38;5;241;43m=\u001b[39;49m\u001b[43mexp\u001b[49m\u001b[43m[\u001b[49m\u001b[38;5;124;43m'\u001b[39;49m\u001b[38;5;124;43mcheckpoint_end\u001b[39;49m\u001b[38;5;124;43m'\u001b[39;49m\u001b[43m]\u001b[49m\u001b[43m,\u001b[49m\n\u001b[0;32m    113\u001b[0m \u001b[43m                   \u001b[49m\u001b[43mcheckpoint_freq\u001b[49m\u001b[38;5;241;43m=\u001b[39;49m\u001b[43mexp\u001b[49m\u001b[43m[\u001b[49m\u001b[38;5;124;43m'\u001b[39;49m\u001b[38;5;124;43mcheckpoint_freq\u001b[39;49m\u001b[38;5;124;43m'\u001b[39;49m\u001b[43m]\u001b[49m\u001b[43m,\u001b[49m\n\u001b[0;32m    114\u001b[0m \u001b[43m                   \u001b[49m\u001b[43mrestore\u001b[49m\u001b[38;5;241;43m=\u001b[39;49m\u001b[43mmodel_path\u001b[49m\u001b[43m,\u001b[49m\n\u001b[0;32m    115\u001b[0m \u001b[43m                   \u001b[49m\u001b[43mstop\u001b[49m\u001b[38;5;241;43m=\u001b[39;49m\u001b[43mstop\u001b[49m\u001b[43m,\u001b[49m\n\u001b[0;32m    116\u001b[0m \u001b[43m                   \u001b[49m\u001b[43mconfig\u001b[49m\u001b[38;5;241;43m=\u001b[39;49m\u001b[43mconfig\u001b[49m\u001b[43m,\u001b[49m\n\u001b[0;32m    117\u001b[0m \u001b[43m                   \u001b[49m\u001b[43mverbose\u001b[49m\u001b[38;5;241;43m=\u001b[39;49m\u001b[38;5;241;43m1\u001b[39;49m\u001b[43m,\u001b[49m\n\u001b[0;32m    118\u001b[0m \u001b[43m                   \u001b[49m\u001b[43mprogress_reporter\u001b[49m\u001b[38;5;241;43m=\u001b[39;49m\u001b[43mCLIReporter\u001b[49m\u001b[43m(\u001b[49m\u001b[43m)\u001b[49m\u001b[43m,\u001b[49m\n\u001b[0;32m    119\u001b[0m \u001b[43m                   \u001b[49m\u001b[43mlocal_dir\u001b[49m\u001b[38;5;241;43m=\u001b[39;49m\u001b[43mavailable_local_dir\u001b[49m\u001b[43m \u001b[49m\u001b[38;5;28;43;01mif\u001b[39;49;00m\u001b[43m \u001b[49m\u001b[43mexp\u001b[49m\u001b[43m[\u001b[49m\u001b[38;5;124;43m\"\u001b[39;49m\u001b[38;5;124;43mlocal_dir\u001b[39;49m\u001b[38;5;124;43m\"\u001b[39;49m\u001b[43m]\u001b[49m\u001b[43m \u001b[49m\u001b[38;5;241;43m==\u001b[39;49m\u001b[43m \u001b[49m\u001b[38;5;124;43m\"\u001b[39;49m\u001b[38;5;124;43m\"\u001b[39;49m\u001b[43m \u001b[49m\u001b[38;5;28;43;01melse\u001b[39;49;00m\u001b[43m \u001b[49m\u001b[43mexp\u001b[49m\u001b[43m[\u001b[49m\u001b[38;5;124;43m\"\u001b[39;49m\u001b[38;5;124;43mlocal_dir\u001b[39;49m\u001b[38;5;124;43m\"\u001b[39;49m\u001b[43m]\u001b[49m\u001b[43m)\u001b[49m\n\u001b[0;32m    121\u001b[0m \u001b[38;5;28;01mreturn\u001b[39;00m results\n",
      "File \u001b[1;32md:\\pulpite\\rware\\venv\\lib\\site-packages\\ray\\tune\\tune.py:624\u001b[0m, in \u001b[0;36mrun\u001b[1;34m(run_or_experiment, name, metric, mode, stop, time_budget_s, config, resources_per_trial, num_samples, local_dir, search_alg, scheduler, keep_checkpoints_num, checkpoint_score_attr, checkpoint_freq, checkpoint_at_end, verbose, progress_reporter, log_to_file, trial_name_creator, trial_dirname_creator, sync_config, export_formats, max_failures, fail_fast, restore, server_port, resume, queue_trials, reuse_actors, trial_executor, raise_on_failed_trial, callbacks, max_concurrent_trials, loggers, _remote)\u001b[0m\n\u001b[0;32m    622\u001b[0m \u001b[38;5;28;01mif\u001b[39;00m incomplete_trials:\n\u001b[0;32m    623\u001b[0m     \u001b[38;5;28;01mif\u001b[39;00m raise_on_failed_trial \u001b[38;5;129;01mand\u001b[39;00m \u001b[38;5;129;01mnot\u001b[39;00m state[signal\u001b[38;5;241m.\u001b[39mSIGINT]:\n\u001b[1;32m--> 624\u001b[0m         \u001b[38;5;28;01mraise\u001b[39;00m TuneError(\u001b[38;5;124m\"\u001b[39m\u001b[38;5;124mTrials did not complete\u001b[39m\u001b[38;5;124m\"\u001b[39m, incomplete_trials)\n\u001b[0;32m    625\u001b[0m     \u001b[38;5;28;01melse\u001b[39;00m:\n\u001b[0;32m    626\u001b[0m         logger\u001b[38;5;241m.\u001b[39merror(\u001b[38;5;124m\"\u001b[39m\u001b[38;5;124mTrials did not complete: \u001b[39m\u001b[38;5;132;01m%s\u001b[39;00m\u001b[38;5;124m\"\u001b[39m, incomplete_trials)\n",
      "\u001b[1;31mTuneError\u001b[0m: ('Trials did not complete', [IPPOTrainer_mpe_simple_adversary_438f1_00000])"
     ]
    }
   ],
   "source": [
    "mappo.render(env, model,\n",
    "             restore_path={'params_path': \"results\\ippo_mlp_mpe_simple_adversary\\params.json\",\n",
    "                           'model_path': \"results\\ippo_mlp_mpe_simple_adversary\\checkpoint_000089\\checkpoint-89\", # checkpoint path\n",
    "                           'render': True},  # render\n",
    "             local_mode=True,\n",
    "             checkpoint_end=False)"
   ]
  },
  {
   "cell_type": "code",
   "execution_count": null,
   "id": "e739993a-8d45-41ae-bd56-933edeb6877a",
   "metadata": {},
   "outputs": [],
   "source": []
  },
  {
   "cell_type": "code",
   "execution_count": null,
   "id": "f355dc90-eb49-474f-9065-4fa1e89dce68",
   "metadata": {},
   "outputs": [],
   "source": []
  }
 ],
 "metadata": {
  "kernelspec": {
   "display_name": "Python 3 (ipykernel)",
   "language": "python",
   "name": "python3"
  },
  "language_info": {
   "codemirror_mode": {
    "name": "ipython",
    "version": 3
   },
   "file_extension": ".py",
   "mimetype": "text/x-python",
   "name": "python",
   "nbconvert_exporter": "python",
   "pygments_lexer": "ipython3",
   "version": "3.8.0"
  }
 },
 "nbformat": 4,
 "nbformat_minor": 5
}
