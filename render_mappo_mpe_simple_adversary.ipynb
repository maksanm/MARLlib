{
 "cells": [
  {
   "cell_type": "code",
   "execution_count": 1,
   "id": "144aac77-f043-423e-822d-bdff57babf44",
   "metadata": {},
   "outputs": [
    {
     "name": "stderr",
     "output_type": "stream",
     "text": [
      "d:\\pulpite\\rware\\venv\\lib\\site-packages\\tqdm\\auto.py:21: TqdmWarning: IProgress not found. Please update jupyter and ipywidgets. See https://ipywidgets.readthedocs.io/en/stable/user_install.html\n",
      "  from .autonotebook import tqdm as notebook_tqdm\n"
     ]
    }
   ],
   "source": [
    "from marllib import marl"
   ]
  },
  {
   "cell_type": "code",
   "execution_count": 2,
   "id": "737b715d-62d3-42dc-83ca-81cfdfa1886c",
   "metadata": {},
   "outputs": [
    {
     "name": "stdout",
     "output_type": "stream",
     "text": [
      "+--------------------+----------------+---------------------------------------------------------------------------------------------------------------------+----------------------------------------------+-------------------------------------+\n",
      "| Env_Name           | Check_Status   | Error_Log                                                                                                           | Config_File_Location                         | Env_File_Location                   |\n",
      "+====================+================+=====================================================================================================================+==============================================+=====================================+\n",
      "| gymnasium_mamujoco | Error          | cannot import name 'NDArray' from 'numpy.typing' (d:\\pulpite\\rware\\venv\\lib\\site-packages\\numpy\\typing\\__init__.py) | envs/base_env/config/gymnasium_mamujoco.yaml | envs/base_env/gymnasium_mamujoco.py |\n",
      "+--------------------+----------------+---------------------------------------------------------------------------------------------------------------------+----------------------------------------------+-------------------------------------+\n",
      "| mpe                | Ready          | Null                                                                                                                | envs/base_env/config/mpe.yaml                | envs/base_env/mpe.py                |\n",
      "+--------------------+----------------+---------------------------------------------------------------------------------------------------------------------+----------------------------------------------+-------------------------------------+\n",
      "| gymnasium_mpe      | Error          | cannot import name 'simple_adversary_v3' from 'pettingzoo.mpe'                                                      | envs/base_env/config/gymnasium_mpe.yaml      | envs/base_env/gymnasium_mpe.py      |\n",
      "+--------------------+----------------+---------------------------------------------------------------------------------------------------------------------+----------------------------------------------+-------------------------------------+\n",
      "| mamujoco           | Error          | No module named 'multiagent_mujoco'                                                                                 | envs/base_env/config/mamujoco.yaml           | envs/base_env/mamujoco.py           |\n",
      "+--------------------+----------------+---------------------------------------------------------------------------------------------------------------------+----------------------------------------------+-------------------------------------+\n",
      "| smac               | Error          | No module named 'smac'                                                                                              | envs/base_env/config/smac.yaml               | envs/base_env/smac.py               |\n",
      "+--------------------+----------------+---------------------------------------------------------------------------------------------------------------------+----------------------------------------------+-------------------------------------+\n",
      "| football           | Error          | No module named 'gfootball'                                                                                         | envs/base_env/config/football.yaml           | envs/base_env/football.py           |\n",
      "+--------------------+----------------+---------------------------------------------------------------------------------------------------------------------+----------------------------------------------+-------------------------------------+\n",
      "| magent             | Error          | cannot import name 'adversarial_pursuit_v3' from 'pettingzoo.magent'                                                | envs/base_env/config/magent.yaml             | envs/base_env/magent.py             |\n",
      "+--------------------+----------------+---------------------------------------------------------------------------------------------------------------------+----------------------------------------------+-------------------------------------+\n",
      "| rware              | Ready          | Null                                                                                                                | envs/base_env/config/rware.yaml              | envs/base_env/rware.py              |\n",
      "+--------------------+----------------+---------------------------------------------------------------------------------------------------------------------+----------------------------------------------+-------------------------------------+\n",
      "| lbf                | Ready          | Null                                                                                                                | envs/base_env/config/lbf.yaml                | envs/base_env/lbf.py                |\n",
      "+--------------------+----------------+---------------------------------------------------------------------------------------------------------------------+----------------------------------------------+-------------------------------------+\n",
      "| pommerman          | Error          | No module named 'pommerman'                                                                                         | envs/base_env/config/pommerman.yaml          | envs/base_env/pommerman.py          |\n",
      "+--------------------+----------------+---------------------------------------------------------------------------------------------------------------------+----------------------------------------------+-------------------------------------+\n",
      "| hanabi             | Ready          | Null                                                                                                                | envs/base_env/config/hanabi.yaml             | envs/base_env/hanabi.py             |\n",
      "+--------------------+----------------+---------------------------------------------------------------------------------------------------------------------+----------------------------------------------+-------------------------------------+\n",
      "| metadrive          | Error          | No module named 'metadrive'                                                                                         | envs/base_env/config/metadrive.yaml          | envs/base_env/metadrive.py          |\n",
      "+--------------------+----------------+---------------------------------------------------------------------------------------------------------------------+----------------------------------------------+-------------------------------------+\n",
      "| mate               | Error          | No module named 'mate'                                                                                              | envs/base_env/config/mate.yaml               | envs/base_env/mate.py               |\n",
      "+--------------------+----------------+---------------------------------------------------------------------------------------------------------------------+----------------------------------------------+-------------------------------------+\n",
      "| gobigger           | Ready          | Null                                                                                                                | envs/base_env/config/gobigger.yaml           | envs/base_env/gobigger.py           |\n",
      "+--------------------+----------------+---------------------------------------------------------------------------------------------------------------------+----------------------------------------------+-------------------------------------+\n",
      "| overcooked         | Error          | No module named 'overcooked_ai_py'                                                                                  | envs/base_env/config/overcooked.yaml         | envs/base_env/overcooked.py         |\n",
      "+--------------------+----------------+---------------------------------------------------------------------------------------------------------------------+----------------------------------------------+-------------------------------------+\n",
      "| voltage            | Error          | No module named 'pandapower'                                                                                        | envs/base_env/config/voltage.yaml            | envs/base_env/voltage.py            |\n",
      "+--------------------+----------------+---------------------------------------------------------------------------------------------------------------------+----------------------------------------------+-------------------------------------+\n",
      "| aircombat          | Error          | No module named 'jsbsim'                                                                                            | envs/base_env/config/aircombat.yaml          | envs/base_env/aircombat.py          |\n",
      "+--------------------+----------------+---------------------------------------------------------------------------------------------------------------------+----------------------------------------------+-------------------------------------+\n",
      "| hns                | Error          | No module named 'mujoco_worldgen'                                                                                   | envs/base_env/config/hns.yaml                | envs/base_env/hns.py                |\n",
      "+--------------------+----------------+---------------------------------------------------------------------------------------------------------------------+----------------------------------------------+-------------------------------------+\n",
      "| sisl               | Ready          | Null                                                                                                                | envs/base_env/config/sisl.yaml               | envs/base_env/sisl.py               |\n",
      "+--------------------+----------------+---------------------------------------------------------------------------------------------------------------------+----------------------------------------------+-------------------------------------+\n"
     ]
    },
    {
     "name": "stderr",
     "output_type": "stream",
     "text": [
      "d:\\pulpite\\rware\\venv\\lib\\site-packages\\pettingzoo\\utils\\wrappers\\base.py:59: UserWarning: The `action_spaces` dictionary is deprecated. Use the `action_space` function instead.\n",
      "  warnings.warn(\"The `action_spaces` dictionary is deprecated. Use the `action_space` function instead.\")\n",
      "d:\\pulpite\\rware\\venv\\lib\\site-packages\\pettingzoo\\utils\\wrappers\\base.py:51: UserWarning: The `observation_spaces` dictionary is deprecated. Use the `observation_space` function instead.\n",
      "  warnings.warn(\"The `observation_spaces` dictionary is deprecated. Use the `observation_space` function instead.\")\n",
      "d:\\pulpite\\rware\\venv\\lib\\site-packages\\pettingzoo\\utils\\conversions.py:61: UserWarning: The `observation_spaces` dictionary is deprecated. Use the `observation_space` function instead.\n",
      "  warnings.warn(\"The `observation_spaces` dictionary is deprecated. Use the `observation_space` function instead.\")\n",
      "d:\\pulpite\\rware\\venv\\lib\\site-packages\\pettingzoo\\utils\\conversions.py:69: UserWarning: The `action_spaces` dictionary is deprecated. Use the `action_space` function instead.\n",
      "  warnings.warn(\"The `action_spaces` dictionary is deprecated. Use the `action_space` function instead.\")\n"
     ]
    }
   ],
   "source": [
    "# prepare the environment\n",
    "env = marl.make_env(environment_name=\"mpe\", map_name=\"simple_adversary\")"
   ]
  },
  {
   "cell_type": "code",
   "execution_count": 3,
   "id": "b6bac9a9-b769-4cd4-bd74-e457b41fa771",
   "metadata": {},
   "outputs": [],
   "source": [
    "# initialize algorithm and load hyperparameters\n",
    "mappo = marl.algos.mappo(hyperparam_source=\"mpe\")"
   ]
  },
  {
   "cell_type": "code",
   "execution_count": 4,
   "id": "2a5b30c9-60db-4363-beff-dc5df53b44e0",
   "metadata": {},
   "outputs": [],
   "source": [
    "# build agent model based on env + algorithms + user preference if checked available\n",
    "model = marl.build_model(env, mappo, {\"core_arch\": \"mlp\", \"encode_layer\": \"128-256\"})"
   ]
  },
  {
   "cell_type": "code",
   "execution_count": 5,
   "id": "18b66c50-eb95-4bcd-803d-5598ab3f6a3a",
   "metadata": {},
   "outputs": [
    {
     "name": "stdout",
     "output_type": "stream",
     "text": [
      "CPU times: total: 0 ns\n",
      "Wall time: 0 ns\n"
     ]
    }
   ],
   "source": [
    "%%time\n",
    "# mappo.fit(env, model, stop={\"timesteps_total\": 100000}, checkpoint_freq=20, checkpoint_end=True, share_policy=\"group\", local_mode=True, num_workers=9)"
   ]
  },
  {
   "cell_type": "code",
   "execution_count": 6,
   "id": "912d55c8-d1b3-49d1-9d88-315af4cf571b",
   "metadata": {},
   "outputs": [
    {
     "name": "stderr",
     "output_type": "stream",
     "text": [
      "2024-01-24 23:20:03,875\tWARNING sample.py:401 -- DeprecationWarning: wrapping <function run_cc.<locals>.<lambda> at 0x000002C58F0D1940> with tune.function() is no longer needed\n",
      "2024-01-24 23:20:04,131\tWARNING worker.py:496 -- `ray.get_gpu_ids()` will always return the empty list when called from the driver. This is because Ray does not manage GPU allocations to the driver process.\n",
      "2024-01-24 23:20:04,219\tWARNING deprecation.py:38 -- DeprecationWarning: `simple_optimizer` has been deprecated. This will raise an error in the future!\n",
      "2024-01-24 23:20:04,220\tINFO ppo.py:166 -- In multi-agent mode, policies will be optimized sequentially by the multi-GPU optimizer. Consider setting simple_optimizer=True if this doesn't work for you.\n",
      "2024-01-24 23:20:04,221\tINFO trainer.py:770 -- Current log_level is WARN. For more information, set 'log_level': 'INFO' / 'DEBUG' or use the -v and -vv flags.\n",
      "2024-01-24 23:20:04,322\tWARNING deprecation.py:38 -- DeprecationWarning: `SampleBatch['is_training']` has been deprecated. Use `SampleBatch.is_training` instead. This will raise an error in the future!\n"
     ]
    },
    {
     "name": "stdout",
     "output_type": "stream",
     "text": [
      ":task_name:bundle_reservation_check_func\n",
      ":actor_name:MAPPOTrainer\n",
      ":actor_name:RolloutWorker\n"
     ]
    },
    {
     "name": "stderr",
     "output_type": "stream",
     "text": [
      "2024-01-24 23:20:04,347\tWARNING rollout_worker.py:578 -- You are running ray with `local_mode=True`, but have configured 1 GPUs to be used! In local mode, Policies are placed on the CPU and the `num_gpus` setting is ignored.\n",
      "2024-01-24 23:20:04,375\tWARNING trainer_template.py:185 -- `execution_plan` functions should accept `trainer`, `workers`, and `config` as args!\n",
      "2024-01-24 23:20:04,377\tWARNING deprecation.py:38 -- DeprecationWarning: `simple_optimizer` has been deprecated. This will raise an error in the future!\n",
      "d:\\pulpite\\rware\\venv\\lib\\site-packages\\pettingzoo\\utils\\wrappers\\base.py:59: UserWarning: The `action_spaces` dictionary is deprecated. Use the `action_space` function instead.\n",
      "  warnings.warn(\"The `action_spaces` dictionary is deprecated. Use the `action_space` function instead.\")\n",
      "d:\\pulpite\\rware\\venv\\lib\\site-packages\\pettingzoo\\utils\\wrappers\\base.py:51: UserWarning: The `observation_spaces` dictionary is deprecated. Use the `observation_space` function instead.\n",
      "  warnings.warn(\"The `observation_spaces` dictionary is deprecated. Use the `observation_space` function instead.\")\n",
      "d:\\pulpite\\rware\\venv\\lib\\site-packages\\pettingzoo\\utils\\conversions.py:61: UserWarning: The `observation_spaces` dictionary is deprecated. Use the `observation_space` function instead.\n",
      "  warnings.warn(\"The `observation_spaces` dictionary is deprecated. Use the `observation_space` function instead.\")\n",
      "d:\\pulpite\\rware\\venv\\lib\\site-packages\\pettingzoo\\utils\\conversions.py:69: UserWarning: The `action_spaces` dictionary is deprecated. Use the `action_space` function instead.\n",
      "  warnings.warn(\"The `action_spaces` dictionary is deprecated. Use the `action_space` function instead.\")\n",
      "2024-01-24 23:20:04,487\tWARNING rollout_worker.py:578 -- You are running ray with `local_mode=True`, but have configured 1 GPUs to be used! In local mode, Policies are placed on the CPU and the `num_gpus` setting is ignored.\n",
      "2024-01-24 23:20:04,560\tINFO trainable.py:416 -- Restored on 127.0.0.1 from checkpoint: D:\\PulpitE\\RWARE\\MARLlib\\exp_results\\mappo_mlp_simple_adversary\\MAPPOTrainer_mpe_simple_adversary_b8bff_00000_0_2024-01-24_23-20-04\\tmpqt4j8qmxrestore_from_object\\checkpoint-30\n",
      "2024-01-24 23:20:04,560\tINFO trainable.py:424 -- Current state after restoring: {'_iteration': 30, '_timesteps_total': 0, '_time_total': 306.93149876594543, '_episodes_total': 4050}\n",
      "2024-01-24 23:20:04,581\tERROR syncer.py:75 -- Log sync requires rsync to be installed.\n",
      "2024-01-24 23:20:04,608\tWARNING deprecation.py:38 -- DeprecationWarning: `policy_mapping_fn(agent_id)` has been deprecated. Use `policy_mapping_fn(agent_id, episode, worker, **kwargs)` instead. This will raise an error in the future!\n"
     ]
    },
    {
     "name": "stdout",
     "output_type": "stream",
     "text": [
      ":actor_name:RolloutWorker\n",
      ":actor_name:MAPPOTrainer\n",
      "== Status ==\n",
      "Current time: 2024-01-24 23:20:04 (running for 00:00:00.66)\n",
      "Memory usage on this node: 11.5/15.9 GiB\n",
      "Using FIFO scheduling algorithm.\n",
      "Resources requested: 3.0/16 CPUs, 1.0/1 GPUs, 0.0/6.42 GiB heap, 0.0/3.21 GiB objects\n",
      "Result logdir: D:\\PulpitE\\RWARE\\MARLlib\\exp_results\\mappo_mlp_simple_adversary\n",
      "Number of trials: 1/1 (1 RUNNING)\n",
      "+-----------------------------------------------+----------+-----------------+\n",
      "| Trial name                                    | status   | loc             |\n",
      "|-----------------------------------------------+----------+-----------------|\n",
      "| MAPPOTrainer_mpe_simple_adversary_b8bff_00000 | RUNNING  | 127.0.0.1:20768 |\n",
      "+-----------------------------------------------+----------+-----------------+\n",
      "\n",
      "\n"
     ]
    },
    {
     "name": "stderr",
     "output_type": "stream",
     "text": [
      "2024-01-24 23:23:00,120\tWARNING util.py:165 -- The `process_trial_restore` operation took 175.515 s, which may be a performance bottleneck.\n",
      "2024-01-24 23:23:00,134\tWARNING ray_trial_executor.py:768 -- Over the last 60 seconds, the Tune event loop has been backlogged processing new results. Consider increasing your period of result reporting to improve performance.\n"
     ]
    },
    {
     "name": "stdout",
     "output_type": "stream",
     "text": [
      "== Status ==\n",
      "Current time: 2024-01-24 23:23:00 (running for 00:02:56.20)\n",
      "Memory usage on this node: 11.7/15.9 GiB\n",
      "Using FIFO scheduling algorithm.\n",
      "Resources requested: 3.0/16 CPUs, 1.0/1 GPUs, 0.0/6.42 GiB heap, 0.0/3.21 GiB objects\n",
      "Result logdir: D:\\PulpitE\\RWARE\\MARLlib\\exp_results\\mappo_mlp_simple_adversary\n",
      "Number of trials: 1/1 (1 RUNNING)\n",
      "+-----------------------------------------------+----------+-----------------+\n",
      "| Trial name                                    | status   | loc             |\n",
      "|-----------------------------------------------+----------+-----------------|\n",
      "| MAPPOTrainer_mpe_simple_adversary_b8bff_00000 | RUNNING  | 127.0.0.1:20768 |\n",
      "+-----------------------------------------------+----------+-----------------+\n",
      "\n",
      "\n"
     ]
    },
    {
     "name": "stderr",
     "output_type": "stream",
     "text": [
      "2024-01-24 23:23:00,625\tINFO tune.py:630 -- Total run time: 176.75 seconds (176.54 seconds for the tuning loop).\n"
     ]
    },
    {
     "name": "stdout",
     "output_type": "stream",
     "text": [
      "== Status ==\n",
      "Current time: 2024-01-24 23:23:00 (running for 00:02:56.58)\n",
      "Memory usage on this node: 11.7/15.9 GiB\n",
      "Using FIFO scheduling algorithm.\n",
      "Resources requested: 0/16 CPUs, 0/1 GPUs, 0.0/6.42 GiB heap, 0.0/3.21 GiB objects\n",
      "Result logdir: D:\\PulpitE\\RWARE\\MARLlib\\exp_results\\mappo_mlp_simple_adversary\n",
      "Number of trials: 1/1 (1 TERMINATED)\n",
      "+-----------------------------------------------+------------+-----------------+--------+------------------+--------+-----------+----------------------+----------------------+--------------------+\n",
      "| Trial name                                    | status     | loc             |   iter |   total time (s) |     ts |    reward |   episode_reward_max |   episode_reward_min |   episode_len_mean |\n",
      "|-----------------------------------------------+------------+-----------------+--------+------------------+--------+-----------+----------------------+----------------------+--------------------|\n",
      "| MAPPOTrainer_mpe_simple_adversary_b8bff_00000 | TERMINATED | 127.0.0.1:20768 |     31 |          482.419 | 104450 | -0.196058 |              18.3385 |             -25.0429 |                 25 |\n",
      "+-----------------------------------------------+------------+-----------------+--------+------------------+--------+-----------+----------------------+----------------------+--------------------+\n",
      "\n",
      "\n"
     ]
    }
   ],
   "source": [
    "mappo.render(env, model,\n",
    "             restore_path={'params_path': \"results\\mappo_mlp_mpe_simple_adversary\\params.json\",\n",
    "                           'model_path': \"results\\mappo_mlp_mpe_simple_adversary\\checkpoint_000089\\checkpoint-89\", # checkpoint path\n",
    "                           'render': True},  # render\n",
    "             local_mode=True,\n",
    "             checkpoint_end=False)"
   ]
  },
  {
   "cell_type": "code",
   "execution_count": null,
   "id": "e739993a-8d45-41ae-bd56-933edeb6877a",
   "metadata": {},
   "outputs": [],
   "source": []
  }
 ],
 "metadata": {
  "kernelspec": {
   "display_name": "Python 3 (ipykernel)",
   "language": "python",
   "name": "python3"
  },
  "language_info": {
   "codemirror_mode": {
    "name": "ipython",
    "version": 3
   },
   "file_extension": ".py",
   "mimetype": "text/x-python",
   "name": "python",
   "nbconvert_exporter": "python",
   "pygments_lexer": "ipython3",
   "version": "3.8.0"
  }
 },
 "nbformat": 4,
 "nbformat_minor": 5
}
